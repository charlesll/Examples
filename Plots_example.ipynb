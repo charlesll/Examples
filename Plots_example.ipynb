{
 "cells": [
  {
   "cell_type": "markdown",
   "metadata": {},
   "source": [
    "This example illustrates a few basic functionalities of Plots.jl for scatter and line plots"
   ]
  },
  {
   "cell_type": "code",
   "execution_count": 1,
   "metadata": {},
   "outputs": [
    {
     "name": "stderr",
     "output_type": "stream",
     "text": [
      "┌ Info: Recompiling stale cache file /home/charles/.julia/compiled/v1.1/Plots/ld3vC.ji for Plots [91a5bcdd-55d7-5caf-9e0b-520d859cae80]\n",
      "└ @ Base loading.jl:1184\n",
      "┌ Info: Recompiling stale cache file /home/charles/.julia/compiled/v1.1/PyPlot/oatAj.ji for PyPlot [d330b81b-6aea-500a-939a-2ce795aea3ee]\n",
      "└ @ Base loading.jl:1184\n"
     ]
    },
    {
     "data": {
      "text/plain": [
       "Plots.PyPlotBackend()"
      ]
     },
     "execution_count": 1,
     "metadata": {},
     "output_type": "execute_result"
    }
   ],
   "source": [
    "# We first call the libraries\n",
    "using Plots\n",
    "using LaTeXStrings # to be able to put LaTex string in the labels, you can call this library\n",
    "pyplot()# using the pyplot backend"
   ]
  },
  {
   "cell_type": "code",
   "execution_count": 3,
   "metadata": {},
   "outputs": [],
   "source": [
    "# Creating a fake dataset\n",
    "x = -10:1.:10; y = x.^2; ese_y = sqrt.(y); # errors as sqrt(y)"
   ]
  },
  {
   "cell_type": "markdown",
   "metadata": {},
   "source": [
    "We create a scatter plot with the scatter command for displaying this dataset"
   ]
  },
  {
   "cell_type": "code",
   "execution_count": 4,
   "metadata": {},
   "outputs": [
    {
     "ename": "UndefVarError",
     "evalue": "UndefVarError: U8 not defined",
     "output_type": "error",
     "traceback": [
      "UndefVarError: U8 not defined",
      "",
      "Stacktrace:",
      " [1] top-level scope at In[4]:10"
     ]
    }
   ],
   "source": [
    "plt = scatter(x,y,\n",
    "yerr=ese_y, # error bars, can use yerr or xerr keywords\n",
    "color = :red, # marker internal color\n",
    "markerstrokecolor = :red, # marker stroke and error bar color\n",
    "markersize = 10, # marker size\n",
    "xlabel = \"X values\", ylabel = L\"$y = X^2$\",# labels, LaTex string for y, need to add L before the text to declare it\n",
    "xtickfont = font(14,\"Arial\"), ytickfont = font(14,\"Arial\"), # thicks font\n",
    "xticks = -10:4:10, # X axis values, same thing applies to y\n",
    "grid = false) # control the display of the internal grid\n",
    "\n",
    "# you need to set the label font with the `guidefont` argument after the first call, as for this subplot:\n",
    "plt.subplots[1][:yaxis][:guidefont] = Plots.Font(\"Arial\",18,:hcenter,:vcenter,0.0,RGB{U8}(1.0,0.0,0.0))\n",
    "plt.subplots[1][:xaxis][:guidefont] = Plots.Font(\"Arial\",18,:hcenter,:vcenter,0.0,RGB{U8}(0.0,0.0,0.0))\n",
    "\n",
    "#savefig(\"./Figures/plt1.png\") # saving the plot\n",
    "#plt # to display the plot again"
   ]
  },
  {
   "cell_type": "markdown",
   "metadata": {},
   "source": [
    "A concatenated version of the above plot can be made using magic areguments:"
   ]
  },
  {
   "cell_type": "code",
   "execution_count": 16,
   "metadata": {},
   "outputs": [
    {
     "name": "stderr",
     "output_type": "stream",
     "text": [
      "WARNING: Keyword argument markerstrokestyle not supported with Plots.PyPlotBackend().  Choose from: Set(Symbol[:subplot_index,:markerstrokecolor,:yscale,:quiver,:foreground_color_grid,:tickfont,:levels,:xticks,:yticks,:xforeground_color_text,:zticks,:xlink,:bar_width,:fillcolor,:right_margin,:arrow,:background_color_legend,:linewidth,:xguidefont,:foreground_color_legend,:line_z,:primary,:discrete_values,:orientation,:zguidefont,:aspect_ratio,:zguide,:fillrange,:yerror,:linecolor,:guide,:flip,:x,:xforeground_color_border,:group,:grid,:markerstrokewidth,:scale,:background_color_outside,:legend,:foreground_color_subplot,:yforeground_color_border,:zflip,:ytickfont,:ydiscrete_values,:xlims,:seriestype,:lims,:normalize,:size,:zlims,:foreground_color_text,:overwrite_figure,:markercolor,:margin,:zdiscrete_values,:window_title,:foreground_color_border,:bar_edges,:y,:bar_position,:ylims,:contours,:ylink,:xflip,:dpi,:xrotation,:fillalpha,:bins,:zforeground_color_axis,:smooth,:markersize,:zrotation,:background_color_inside,:ribbon,:left_margin,:titlefont,:title,:link,:markerstrokealpha,:weights,:zscale,:inset_subplots,:zforeground_color_guide,:polar,:z,:projection,:match_dimensions,:foreground_color_axis,:xguide,:series_annotations,:foreground_color_title,:xforeground_color_axis,:clims,:yforeground_color_text,:yrotation,:markeralpha,:linealpha,:yguidefont,:markershape,:background_color_subplot,:annotations,:yforeground_color_axis,:html_output_format,:zlink,:seriesalpha,:layout,:zforeground_color_border,:xtickfont,:ticks,:zforeground_color_text,:yflip,:yguide,:xerror,:yforeground_color_guide,:legendfont,:top_margin,:ztickfont,:guidefont,:seriescolor,:foreground_color,:label,:foreground_color_guide,:xforeground_color_guide,:background_color,:xdiscrete_values,:bottom_margin,:show,:subplot,:xscale,:title_location,:color_palette,:colorbar_title,:colorbar,:linestyle,:rotation,:marker_z])\n"
     ]
    },
    {
     "data": {
      "text/html": [
       "<img src=\"data:image/png;base64,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\" />"
      ]
     },
     "execution_count": 16,
     "metadata": {},
     "output_type": "execute_result"
    }
   ],
   "source": [
    "plt_bis = scatter(x,y, err = ese_y, c = :red, markerstrokecolor = :red, ms = 10, \n",
    "        xaxis = (\"X values\", font(14, \"Arial\"), -10:4:10),  yaxis = (L\"$y = X^2$\", font(14, \"Arial\")), \n",
    "        grid = false)\n",
    "\n",
    "# you need to set the label font with the `guidefont` argument after the first call, as for this subplot:\n",
    "plt_bis.subplots[1][:yaxis][:guidefont] = Plots.Font(\"Arial\",18,:hcenter,:vcenter,0.0,RGB{U8}(1.0,0.0,0.0))\n",
    "plt_bis.subplots[1][:xaxis][:guidefont] = Plots.Font(\"Arial\",18,:hcenter,:vcenter,0.0,RGB{U8}(0.0,0.0,0.0))\n",
    "plt_bis\n",
    "savefig(\"./Figures/plt1_bis.png\")"
   ]
  },
  {
   "cell_type": "code",
   "execution_count": 8,
   "metadata": {},
   "outputs": [],
   "source": [
    "# Now we can even modify the y values\n",
    "y2 = y-(x+0.5)\n",
    "y3 = y2+y-(x+2)\n",
    "\n",
    "# adding to the existing plot\n",
    "scatter!(x,y2, marker = (:hexagon, 10, 1.0, :green))\n",
    "scatter!(x,y3, marker = (:square, 10, 1.0, :purple))\n",
    "\n",
    "plt\n",
    "savefig(\"./Figures/plt2.png\")"
   ]
  },
  {
   "cell_type": "markdown",
   "metadata": {},
   "source": [
    "If we want to delete the first y1 and y2 for clarity, we can delete the corresponding series_list"
   ]
  },
  {
   "cell_type": "code",
   "execution_count": 9,
   "metadata": {},
   "outputs": [],
   "source": [
    "deleteat!(plt.series_list,1:3) # here we indicate 1 to 3 as we have y1, yerr and y2 as series\n",
    "plt\n",
    "savefig(\"./Figures/plt3.png\")"
   ]
  },
  {
   "cell_type": "markdown",
   "metadata": {},
   "source": [
    "We can even concatenate that in a GIF for a dynamic view of the plot!"
   ]
  },
  {
   "cell_type": "code",
   "execution_count": 10,
   "metadata": {},
   "outputs": [
    {
     "name": "stderr",
     "output_type": "stream",
     "text": [
      "INFO: Saved animation to /Users/charles/Documents/Examples/Figures/plt4.gif\n"
     ]
    },
    {
     "data": {
      "text/html": [
       "<img src=\"Figures/plt4.gif?0.35265591344386316>\" />"
      ],
      "text/plain": [
       "Plots.AnimatedGif(\"/Users/charles/Documents/Examples/Figures/plt4.gif\")"
      ]
     },
     "execution_count": 10,
     "metadata": {},
     "output_type": "execute_result"
    }
   ],
   "source": [
    "plt2 = scatter(x,y,\n",
    "yerr=ese_y, # to indicate error bars, use the yerr or xerr keywords\n",
    "color = :red, # this is the marker internal color color\n",
    "markerstrokecolor = :red, # to set the error bar colors to red\n",
    "markersize = 10,\n",
    "xlabel = \"X values\", \n",
    "ylabel = L\"$y = X^2$\",\n",
    "xtickfont = font(14,\"Arial\"),\n",
    "ytickfont = font(14,\"Arial\"),\n",
    "grid = false,\n",
    "xticks = -10:4:10,\n",
    "leg=false, # no legend\n",
    "ylims=(0,200) # fixed limits in y\n",
    ")\n",
    "\n",
    "plt2.subplots[1][:yaxis][:guidefont] = Plots.Font(\"Arial\",18,:hcenter,:vcenter,0.0,RGB{U8}(1.0,0.0,0.0))\n",
    "plt2.subplots[1][:xaxis][:guidefont] = Plots.Font(\"Arial\",18,:hcenter,:vcenter,0.0,RGB{U8}(0.0,0.0,0.0))\n",
    "\n",
    "# to create the gif and record the frames\n",
    "anim = Animation()\n",
    "frame(anim) # we record the first frame\n",
    "\n",
    "# we delete the first series and add a new one\n",
    "deleteat!(plt2.series_list,1:2) # here we indicate 1 to 2 as we have y1, yerr as 2 series\n",
    "scatter!(x,y2, marker = (:hexagon, 10, 1.0, :green)) # adding the y2 serie\n",
    "frame(anim) # recording a frame\n",
    "\n",
    "deleteat!(plt2.series_list,1) # we delete the y2 serie\n",
    "scatter!(x,y3, marker = (:square, 10, 1.0, :purple)) # adding the y3 serie\n",
    "frame(anim) # recording a frame\n",
    "\n",
    "# note that the last steps can be embedded in a loop easily, look at the documentation for further details\n",
    "\n",
    "# recording our gif file with 1 frame per second (to make it even slower, the trick is to record multiple time the same frame)\n",
    "gif(anim, \"./Figures/plt4.gif\", fps=1)"
   ]
  },
  {
   "cell_type": "code",
   "execution_count": null,
   "metadata": {
    "collapsed": true
   },
   "outputs": [],
   "source": []
  }
 ],
 "metadata": {
  "kernelspec": {
   "display_name": "Julia 1.1.0",
   "language": "julia",
   "name": "julia-1.1"
  },
  "language_info": {
   "file_extension": ".jl",
   "mimetype": "application/julia",
   "name": "julia",
   "version": "1.1.0"
  }
 },
 "nbformat": 4,
 "nbformat_minor": 1
}
