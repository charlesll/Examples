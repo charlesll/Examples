{
 "cells": [
  {
   "cell_type": "code",
   "execution_count": 1,
   "metadata": {
    "collapsed": false
   },
   "outputs": [
    {
     "data": {
      "text/plain": [
       "Plots.PyPlotBackend()"
      ]
     },
     "execution_count": 1,
     "metadata": {},
     "output_type": "execute_result"
    }
   ],
   "source": [
    "using Plots\n",
    "using LaTeXStrings\n",
    "# using the pyplot backend\n",
    "pyplot()"
   ]
  },
  {
   "cell_type": "code",
   "execution_count": 2,
   "metadata": {
    "collapsed": false
   },
   "outputs": [
    {
     "data": {
      "text/plain": [
       "21-element Array{Float64,1}:\n",
       " 10.0\n",
       "  9.0\n",
       "  8.0\n",
       "  7.0\n",
       "  6.0\n",
       "  5.0\n",
       "  4.0\n",
       "  3.0\n",
       "  2.0\n",
       "  1.0\n",
       "  0.0\n",
       "  1.0\n",
       "  2.0\n",
       "  3.0\n",
       "  4.0\n",
       "  5.0\n",
       "  6.0\n",
       "  7.0\n",
       "  8.0\n",
       "  9.0\n",
       " 10.0"
      ]
     },
     "execution_count": 2,
     "metadata": {},
     "output_type": "execute_result"
    }
   ],
   "source": [
    "# Creating a fake dataset\n",
    "x = -10:1.:10\n",
    "y = x.^2\n",
    "ese_y = sqrt(y); # errors as sqrt(y)"
   ]
  },
  {
   "cell_type": "markdown",
   "metadata": {},
   "source": [
    "We create a scatter plot with the scatter command for displaying this dataset"
   ]
  },
  {
   "cell_type": "code",
   "execution_count": 3,
   "metadata": {
    "collapsed": false
   },
   "outputs": [
    {
     "name": "stderr",
     "output_type": "stream",
     "text": [
      "/Users/charles/anaconda/lib/python2.7/site-packages/matplotlib/font_manager.py:1288: UserWarning: findfont: Font family [u'Helvetica'] not found. Falling back to Bitstream Vera Sans\n",
      "  (prop.get_family(), self.defaultFamily[fontext]))\n"
     ]
    }
   ],
   "source": [
    "plt = scatter(x,y,\n",
    "yerr=ese_y, # to indicate error bars, use the yerr or xerr keywords\n",
    "color = :red, # this will only set the marker internal color\n",
    "markerstrokecolor = :red, # to set the error bar colors to red, as well as the marker stroke color\n",
    "markersize = 10,\n",
    "\n",
    "# to set the labels use the following. Note that to use a latex fontend, \n",
    "# you need using the LaTeXStrings package with pyplot and add L before the text\n",
    "xlabel = \"X values\", ylabel = L\"$y = X^2$\",\n",
    "\n",
    "# to set the thicks font\n",
    "xtickfont = font(14,\"Arial\"), ytickfont = font(14,\"Arial\"),\n",
    "\n",
    "# to set the X axis values, same thing applies to y\n",
    "xticks = -10:4:10,\n",
    "\n",
    "# to control the display of the internal grid\n",
    "grid = false)\n",
    "\n",
    "# you need to set the label font with the `guidefont` argument after the first call, as for this subplot:\n",
    "plt.subplots[1][:yaxis][:guidefont] = Plots.Font(\"Arial\",18,:hcenter,:vcenter,0.0,RGB{U8}(1.0,0.0,0.0))\n",
    "plt.subplots[1][:xaxis][:guidefont] = Plots.Font(\"Arial\",18,:hcenter,:vcenter,0.0,RGB{U8}(0.0,0.0,0.0))\n",
    "\n",
    "# to display the plot again\n",
    "plt\n",
    "savefig(\"./Figures/plt1.png\")"
   ]
  },
  {
   "cell_type": "markdown",
   "metadata": {},
   "source": [
    "A concatenated version of the above plot can be made using magic areguments:"
   ]
  },
  {
   "cell_type": "code",
   "execution_count": 7,
   "metadata": {
    "collapsed": false
   },
   "outputs": [
    {
     "data": {
      "text/html": [
       "<img src=\"data:image/png;base64,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\" />"
      ]
     },
     "execution_count": 7,
     "metadata": {},
     "output_type": "execute_result"
    }
   ],
   "source": [
    "plt_bis = scatter(x,y, err = ese_y, c = :red, markerstrokecolor = :red, ms = 10, \n",
    "        xaxis = (\"X values\", font(14, \"Arial\"), -10:4:10),  yaxis = (L\"$y = X^2$\", font(14, \"Arial\")), \n",
    "        grid = false)\n",
    "\n",
    "# you need to set the label font with the `guidefont` argument after the first call, as for this subplot:\n",
    "plt_bis.subplots[1][:yaxis][:guidefont] = Plots.Font(\"Arial\",18,:hcenter,:vcenter,0.0,RGB{U8}(1.0,0.0,0.0))\n",
    "plt_bis.subplots[1][:xaxis][:guidefont] = Plots.Font(\"Arial\",18,:hcenter,:vcenter,0.0,RGB{U8}(0.0,0.0,0.0))\n",
    "plt_bis"
   ]
  },
  {
   "cell_type": "code",
   "execution_count": 8,
   "metadata": {
    "collapsed": false
   },
   "outputs": [],
   "source": [
    "# Now we can even modify the y values\n",
    "y2 = y-(x+0.5)\n",
    "y3 = y2+y-(x+2)\n",
    "\n",
    "# adding to the existing plot\n",
    "scatter!(x,y2, marker = (:hexagon, 10, 1.0, :green))\n",
    "scatter!(x,y3, marker = (:square, 10, 1.0, :purple))\n",
    "\n",
    "plt\n",
    "savefig(\"./Figures/plt2.png\")"
   ]
  },
  {
   "cell_type": "markdown",
   "metadata": {},
   "source": [
    "If we want to delete the first y1 and y2 for clarity, we can delete the corresponding series_list"
   ]
  },
  {
   "cell_type": "code",
   "execution_count": 9,
   "metadata": {
    "collapsed": false
   },
   "outputs": [],
   "source": [
    "deleteat!(plt.series_list,1:3) # here we indicate 1 to 3 as we have y1, yerr and y2 as series\n",
    "plt\n",
    "savefig(\"./Figures/plt3.png\")"
   ]
  },
  {
   "cell_type": "markdown",
   "metadata": {},
   "source": [
    "We can even concatenate that in a GIF for a dynamic view of the plot!"
   ]
  },
  {
   "cell_type": "code",
   "execution_count": 10,
   "metadata": {
    "collapsed": false
   },
   "outputs": [
    {
     "name": "stderr",
     "output_type": "stream",
     "text": [
      "INFO: Saved animation to /Users/charles/Documents/Examples/Figures/plt4.gif\n"
     ]
    },
    {
     "data": {
      "text/html": [
       "<img src=\"Figures/plt4.gif?0.35265591344386316>\" />"
      ],
      "text/plain": [
       "Plots.AnimatedGif(\"/Users/charles/Documents/Examples/Figures/plt4.gif\")"
      ]
     },
     "execution_count": 10,
     "metadata": {},
     "output_type": "execute_result"
    }
   ],
   "source": [
    "plt2 = scatter(x,y,\n",
    "yerr=ese_y, # to indicate error bars, use the yerr or xerr keywords\n",
    "color = :red, # this is the marker internal color color\n",
    "markerstrokecolor = :red, # to set the error bar colors to red\n",
    "markersize = 10,\n",
    "xlabel = \"X values\", \n",
    "ylabel = L\"$y = X^2$\",\n",
    "xtickfont = font(14,\"Arial\"),\n",
    "ytickfont = font(14,\"Arial\"),\n",
    "grid = false,\n",
    "xticks = -10:4:10,\n",
    "leg=false, # no legend\n",
    "ylims=(0,200) # fixed limits in y\n",
    ")\n",
    "\n",
    "plt2.subplots[1][:yaxis][:guidefont] = Plots.Font(\"Arial\",18,:hcenter,:vcenter,0.0,RGB{U8}(1.0,0.0,0.0))\n",
    "plt2.subplots[1][:xaxis][:guidefont] = Plots.Font(\"Arial\",18,:hcenter,:vcenter,0.0,RGB{U8}(0.0,0.0,0.0))\n",
    "\n",
    "# to create the gif and record the frames\n",
    "anim = Animation()\n",
    "frame(anim) # we record the first frame\n",
    "\n",
    "# we delete the first series and add a new one\n",
    "deleteat!(plt2.series_list,1:2) # here we indicate 1 to 2 as we have y1, yerr as 2 series\n",
    "scatter!(x,y2, marker = (:hexagon, 10, 1.0, :green)) # adding the y2 serie\n",
    "frame(anim) # recording a frame\n",
    "\n",
    "deleteat!(plt2.series_list,1) # we delete the y2 serie\n",
    "scatter!(x,y3, marker = (:square, 10, 1.0, :purple)) # adding the y3 serie\n",
    "frame(anim) # recording a frame\n",
    "\n",
    "# note that the last steps can be embedded in a loop easily, look at the documentation for further details\n",
    "\n",
    "# recording our gif file with 1 frame per second (to make it even slower, the trick is to record multiple time the same frame)\n",
    "gif(anim, \"./Figures/plt4.gif\", fps=1)"
   ]
  },
  {
   "cell_type": "code",
   "execution_count": null,
   "metadata": {
    "collapsed": true
   },
   "outputs": [],
   "source": []
  }
 ],
 "metadata": {
  "kernelspec": {
   "display_name": "Julia 0.5.0",
   "language": "julia",
   "name": "julia-0.5"
  },
  "language_info": {
   "file_extension": ".jl",
   "mimetype": "application/julia",
   "name": "julia",
   "version": "0.5.0"
  }
 },
 "nbformat": 4,
 "nbformat_minor": 0
}
