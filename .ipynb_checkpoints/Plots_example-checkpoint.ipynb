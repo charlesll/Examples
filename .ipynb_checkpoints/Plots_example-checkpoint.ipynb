{
 "cells": [
  {
   "cell_type": "code",
   "execution_count": 12,
   "metadata": {
    "collapsed": false
   },
   "outputs": [
    {
     "ename": "LoadError",
     "evalue": "LoadError: unknown package gadfly\n in macro expansion at ./pkg/entry.jl:53 [inlined]\n in (::Base.Pkg.Entry.##2#5{String,Base.Pkg.Types.VersionSet})() at ./task.jl:360\nwhile loading In[12], in expression starting on line 1",
     "output_type": "error",
     "traceback": [
      "LoadError: unknown package gadfly\n in macro expansion at ./pkg/entry.jl:53 [inlined]\n in (::Base.Pkg.Entry.##2#5{String,Base.Pkg.Types.VersionSet})() at ./task.jl:360\nwhile loading In[12], in expression starting on line 1",
      "",
      " in sync_end() at ./task.jl:311",
      " in macro expansion at ./task.jl:327 [inlined]",
      " in add(::String, ::Base.Pkg.Types.VersionSet) at ./pkg/entry.jl:51",
      " in (::Base.Pkg.Dir.##2#3{Array{Any,1},Base.Pkg.Entry.#add,Tuple{String}})() at ./pkg/dir.jl:31",
      " in cd(::Base.Pkg.Dir.##2#3{Array{Any,1},Base.Pkg.Entry.#add,Tuple{String}}, ::String) at ./file.jl:59",
      " in #cd#1(::Array{Any,1}, ::Function, ::Function, ::String, ::Vararg{Any,N}) at ./pkg/dir.jl:31",
      " in add(::String) at ./pkg/pkg.jl:100"
     ]
    }
   ],
   "source": [
    "using Plots\n",
    "using LaTeXStrings\n",
    "# using the pyplot backend\n",
    "pyplot()"
   ]
  },
  {
   "cell_type": "code",
   "execution_count": 2,
   "metadata": {
    "collapsed": false
   },
   "outputs": [
    {
     "data": {
      "text/plain": [
       "21-element Array{Float64,1}:\n",
       " 10.0\n",
       "  9.0\n",
       "  8.0\n",
       "  7.0\n",
       "  6.0\n",
       "  5.0\n",
       "  4.0\n",
       "  3.0\n",
       "  2.0\n",
       "  1.0\n",
       "  0.0\n",
       "  1.0\n",
       "  2.0\n",
       "  3.0\n",
       "  4.0\n",
       "  5.0\n",
       "  6.0\n",
       "  7.0\n",
       "  8.0\n",
       "  9.0\n",
       " 10.0"
      ]
     },
     "execution_count": 2,
     "metadata": {},
     "output_type": "execute_result"
    }
   ],
   "source": [
    "# Creating a fake dataset\n",
    "x = -10:1.:10\n",
    "y = x.^2\n",
    "ese_y = sqrt(y); # errors as sqrt(y)"
   ]
  },
  {
   "cell_type": "markdown",
   "metadata": {},
   "source": [
    "We create a scatter plot with the scatter command for displaying this dataset"
   ]
  },
  {
   "cell_type": "code",
   "execution_count": 7,
   "metadata": {
    "collapsed": false
   },
   "outputs": [
    {
     "name": "stderr",
     "output_type": "stream",
     "text": [
      "/Users/charles/anaconda/lib/python2.7/site-packages/matplotlib/font_manager.py:1288: UserWarning: findfont: Font family [u'Helvetica'] not found. Falling back to Bitstream Vera Sans\n",
      "  (prop.get_family(), self.defaultFamily[fontext]))\n"
     ]
    }
   ],
   "source": [
    "plt = scatter(x,y,\n",
    "yerr=ese_y, # to indicate error bars, use the yerr or xerr keywords\n",
    "color = :red, # this will only set the marker internal color\n",
    "markerstrokecolor = :red, # to set the error bar colors to red, as well as the marker stroke color\n",
    "markersize = 10,\n",
    "\n",
    "# to set the labels use the following. Note that to use a latex fontend, \n",
    "# you need using the LaTeXStrings package with pyplot and add L before the text\n",
    "xlabel = \"X values\", ylabel = L\"$y = X^2$\",\n",
    "\n",
    "# to set the thicks font\n",
    "xtickfont = font(14,\"Arial\"), ytickfont = font(14,\"Arial\"),\n",
    "\n",
    "# to set the X axis values, same thing applies to y\n",
    "xticks = -10:4:10,\n",
    "\n",
    "# to control the display of the internal grid\n",
    "grid = false)\n",
    "\n",
    "# you need to set the label font with the `guidefont` argument after the first call, as for this subplot:\n",
    "plt.subplots[1][:yaxis][:guidefont] = Plots.Font(\"Arial\",18,:hcenter,:vcenter,0.0,RGB{U8}(1.0,0.0,0.0))\n",
    "plt.subplots[1][:xaxis][:guidefont] = Plots.Font(\"Arial\",18,:hcenter,:vcenter,0.0,RGB{U8}(0.0,0.0,0.0))\n",
    "\n",
    "# to display the plot again\n",
    "plt\n",
    "savefig(\"./Figures/plt1.png\")"
   ]
  },
  {
   "cell_type": "code",
   "execution_count": 8,
   "metadata": {
    "collapsed": false
   },
   "outputs": [],
   "source": [
    "# Now we can even modify the y values\n",
    "y2 = y-(x+0.5)\n",
    "y3 = y2+y-(x+2)\n",
    "\n",
    "# adding to the existing plot\n",
    "scatter!(x,y2, marker = (:hexagon, 10, 1.0, :green))\n",
    "scatter!(x,y3, marker = (:square, 10, 1.0, :purple))\n",
    "\n",
    "plt\n",
    "savefig(\"./Figures/plt2.png\")"
   ]
  },
  {
   "cell_type": "markdown",
   "metadata": {},
   "source": [
    "If we want to delete the first y1 and y2 for clarity, we can delete the corresponding series_list"
   ]
  },
  {
   "cell_type": "code",
   "execution_count": 9,
   "metadata": {
    "collapsed": false
   },
   "outputs": [],
   "source": [
    "deleteat!(plt.series_list,1:3) # here we indicate 1 to 3 as we have y1, yerr and y2 as series\n",
    "plt\n",
    "savefig(\"./Figures/plt3.png\")"
   ]
  },
  {
   "cell_type": "markdown",
   "metadata": {},
   "source": [
    "We can even concatenate that in a GIF for a dynamic view of the plot!"
   ]
  },
  {
   "cell_type": "code",
   "execution_count": 10,
   "metadata": {
    "collapsed": false
   },
   "outputs": [
    {
     "name": "stderr",
     "output_type": "stream",
     "text": [
      "INFO: Saved animation to /Users/charles/Documents/Examples/Figures/plt4.gif\n"
     ]
    },
    {
     "data": {
      "text/html": [
       "<img src=\"Figures/plt4.gif?0.35265591344386316>\" />"
      ],
      "text/plain": [
       "Plots.AnimatedGif(\"/Users/charles/Documents/Examples/Figures/plt4.gif\")"
      ]
     },
     "execution_count": 10,
     "metadata": {},
     "output_type": "execute_result"
    }
   ],
   "source": [
    "plt2 = scatter(x,y,\n",
    "yerr=ese_y, # to indicate error bars, use the yerr or xerr keywords\n",
    "color = :red, # this is the marker internal color color\n",
    "markerstrokecolor = :red, # to set the error bar colors to red\n",
    "markersize = 10,\n",
    "xlabel = \"X values\", \n",
    "ylabel = L\"$y = X^2$\",\n",
    "xtickfont = font(14,\"Arial\"),\n",
    "ytickfont = font(14,\"Arial\"),\n",
    "grid = false,\n",
    "xticks = -10:4:10,\n",
    "leg=false, # no legend\n",
    "ylims=(0,200) # fixed limits in y\n",
    ")\n",
    "\n",
    "plt2.subplots[1][:yaxis][:guidefont] = Plots.Font(\"Arial\",18,:hcenter,:vcenter,0.0,RGB{U8}(1.0,0.0,0.0))\n",
    "plt2.subplots[1][:xaxis][:guidefont] = Plots.Font(\"Arial\",18,:hcenter,:vcenter,0.0,RGB{U8}(0.0,0.0,0.0))\n",
    "\n",
    "# to create the gif and record the frames\n",
    "anim = Animation()\n",
    "frame(anim) # we record the first frame\n",
    "\n",
    "# we delete the first series and add a new one\n",
    "deleteat!(plt2.series_list,1:2) # here we indicate 1 to 2 as we have y1, yerr as 2 series\n",
    "scatter!(x,y2, marker = (:hexagon, 10, 1.0, :green)) # adding the y2 serie\n",
    "frame(anim) # recording a frame\n",
    "\n",
    "deleteat!(plt2.series_list,1) # we delete the y2 serie\n",
    "scatter!(x,y3, marker = (:square, 10, 1.0, :purple)) # adding the y3 serie\n",
    "frame(anim) # recording a frame\n",
    "\n",
    "# note that the last steps can be embedded in a loop easily, look at the documentation for further details\n",
    "\n",
    "# recording our gif file with 1 frame per second (to make it even slower, the trick is to record multiple time the same frame)\n",
    "gif(anim, \"./Figures/plt4.gif\", fps=1)"
   ]
  },
  {
   "cell_type": "code",
   "execution_count": null,
   "metadata": {
    "collapsed": true
   },
   "outputs": [],
   "source": []
  }
 ],
 "metadata": {
  "kernelspec": {
   "display_name": "Julia 0.5.0",
   "language": "julia",
   "name": "julia-0.5"
  },
  "language_info": {
   "file_extension": ".jl",
   "mimetype": "application/julia",
   "name": "julia",
   "version": "0.5.0"
  }
 },
 "nbformat": 4,
 "nbformat_minor": 0
}
