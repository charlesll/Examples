{
 "cells": [
  {
   "cell_type": "markdown",
   "metadata": {},
   "source": [
    "Charles Le Losq\n",
    "Friday, 22 May 2015\n",
    "Modified the 16 June 2015.\n",
    "\n",
    "Geophysical Laboratory,\n",
    "Carnegie Institution for Science\n",
    "\n",
    "Example of use of pysolex, the library using the software SolEx developped by Fred Witham, University of Bristol.\n",
    "\n",
    "From the header of the solex.cpp:\n",
    "\n",
    "\"An object that calculates the solubility relationships for basalt given basalt compositional parameters and PT conditions.\"\n",
    "\n",
    "Difference with the SolEx GUI software:\n",
    "- C++ code modified to perform only equilibrium calculation at given P, T, X. \n",
    "- The core library is written in C++, only functional modifications have been made, the calculation stays as it was written by Fred Witham.\n",
    "- The C++ library SolEx is not directly wrapped to keep it running without modification and for simplifying the wrapping process. Rather than a direct wrapping, I created a function pysolex.cpp that is wrapped using SWIG. Then, in the setup.py file, the distutils function calls the wrapped version of pysolex.cpp with knowing that it has to use libsolex.a! This allows to keep a clean C++ code for the SolEx core library that can be used independently of Python.\n",
    "- Results are in a SWIG array... For now, I only found a way to have them: directly reading the memory block were they are stored with ctypes... It's working but such low level in Python seems not ideal (=nice) to me?\n",
    "\n",
    "Let's start and call the useful libraries:\n"
   ]
  },
  {
   "cell_type": "code",
   "execution_count": 1,
   "metadata": {
    "collapsed": true
   },
   "outputs": [],
   "source": [
    "import numpy as np #for handling the numbers/arrays\n",
    "import scipy #for a lot of scientific stuffs, optimisation, interpolation functions, etc.\n",
    "import pysolex #we import the pysolex library!\n",
    "import ctypes #for reading the SWIG array output\n",
    "import matplotlib #for doing nice graphs\n",
    "import matplotlib.pyplot as plt # For doing the plots\n",
    "from pylab import * #for doing nice graphs\n",
    "# We need this in this case because we use IPython notebooks, but not needed in a .py code\n",
    "%matplotlib inline "
   ]
  },
  {
   "cell_type": "markdown",
   "metadata": {},
   "source": [
    "Ok, now we start by defining a starting chemical composition of interest (warning to put dots so that Python interpretes the numbers as float and not int!):"
   ]
  },
  {
   "cell_type": "code",
   "execution_count": 2,
   "metadata": {
    "collapsed": true
   },
   "outputs": [],
   "source": [
    "CO2 = 4890.\n",
    "H2O = 3.67\n",
    "PPMS0 = 3560.\n",
    "PPMCl0 = 1572.\n",
    "Si = 52.12\n",
    "Al = 16.38\n",
    "Fe = 5.82\n",
    "Ca = 10.72\n",
    "Mg = 6.71\n",
    "Na = 2.47\n",
    "K = 1.89"
   ]
  },
  {
   "cell_type": "markdown",
   "metadata": {},
   "source": [
    "Now we define the value of pi to use, which is the parameterisation described in Dixon(1997). This value is not used unless piswitch is set to 1. "
   ]
  },
  {
   "cell_type": "code",
   "execution_count": 3,
   "metadata": {
    "collapsed": true
   },
   "outputs": [],
   "source": [
    "pi = -0.05341"
   ]
  },
  {
   "cell_type": "markdown",
   "metadata": {},
   "source": [
    "Below is the wt% of SiO2 that was used for the SiO2 only parameterisation. From Fred: \"I think (I should check but dont have the code available now) that this is no-longer used as the SiO2 wt% is calculated from Si mol%.\""
   ]
  },
  {
   "cell_type": "code",
   "execution_count": 4,
   "metadata": {
    "collapsed": true
   },
   "outputs": [],
   "source": [
    "SiO2 = 52.12 #should match the good value"
   ]
  },
  {
   "cell_type": "markdown",
   "metadata": {},
   "source": [
    "Now the pisol switch: if 1 solubility is based on the value of pi, if 0 it is used on SiO2 wt% only."
   ]
  },
  {
   "cell_type": "code",
   "execution_count": 5,
   "metadata": {
    "collapsed": true
   },
   "outputs": [],
   "source": [
    "pisol = 0"
   ]
  },
  {
   "cell_type": "markdown",
   "metadata": {},
   "source": [
    "Now a second switch to determine if pisol is given or should be calculated: if 1 then the value pi is used for solubility calculations, and if 0 pi is calculated from the composition of the melt."
   ]
  },
  {
   "cell_type": "code",
   "execution_count": 6,
   "metadata": {
    "collapsed": true
   },
   "outputs": [],
   "source": [
    "piswitch = 0"
   ]
  },
  {
   "cell_type": "markdown",
   "metadata": {},
   "source": [
    "Now let's fix the other parameters of our system: temperature, pressure, and oxygen fugacity! We will start with a fixed oxygen fugacity, pressure and temperature:"
   ]
  },
  {
   "cell_type": "code",
   "execution_count": 7,
   "metadata": {
    "collapsed": true
   },
   "outputs": [],
   "source": [
    "T = 1153.; #in K\n",
    "P = 100.; #in bars\n",
    "NNO = 1.8;"
   ]
  },
  {
   "cell_type": "markdown",
   "metadata": {},
   "source": [
    "Ok, for this single calculation, SolEx has a flag for terminal output, but it is not working in the Notebook. So let's put the flag to 0:"
   ]
  },
  {
   "cell_type": "code",
   "execution_count": 8,
   "metadata": {
    "collapsed": false
   },
   "outputs": [],
   "source": [
    "flagout = bool(0) #has to be a bool value"
   ]
  },
  {
   "cell_type": "markdown",
   "metadata": {},
   "source": [
    "And the function to call is pysolex.pyex:"
   ]
  },
  {
   "cell_type": "code",
   "execution_count": 9,
   "metadata": {
    "collapsed": false
   },
   "outputs": [
    {
     "data": {
      "text/plain": [
       "<Swig Object of type 'double *' at 0x104ec6de0>"
      ]
     },
     "execution_count": 9,
     "metadata": {},
     "output_type": "execute_result"
    }
   ],
   "source": [
    "output = pysolex.pyex(H2O,CO2,PPMS0,PPMCl0,Si,Al,Fe,Ca,Mg,Na,K,pi,SiO2,pisol,piswitch,flagout,T,P,NNO)\n",
    "output"
   ]
  },
  {
   "cell_type": "markdown",
   "metadata": {},
   "source": [
    "Oh... Here is the result contained in output => a SWIG Object containing double number... To read it, I only found one way online: reading directly the memory block allocated to this Ojbect using ctypes:"
   ]
  },
  {
   "cell_type": "code",
   "execution_count": 10,
   "metadata": {
    "collapsed": false
   },
   "outputs": [
    {
     "name": "stdout",
     "output_type": "stream",
     "text": [
      "wt% H2O = 0.98987741142\n",
      "PPM CO2 = 2.74547200339\n",
      "PPM S = 0.0290543523075\n",
      "PPM Cl = 1397.16576496\n",
      "Vol% Exsolve = 85.0234203264\n",
      "XV H2O (mass) = 0.756599096781\n",
      "XV CO2 (mass) = 0.137967284682\n",
      "XV S (mass) = 0.100498044885\n",
      "XV Cl (mass) = 0.00493557365189\n",
      "molV H2O (mass) = 7.23188901801\n",
      "molV CO2 (mass) = 0.0292865664245\n",
      "molV S (mass) = 0.0240400681552\n",
      "molV Cl (mass) = 0.0\n"
     ]
    }
   ],
   "source": [
    "rawPointer = output.__long__() # we're going to read the \"address\"\n",
    "pC = ctypes.cast(rawPointer, ctypes.POINTER( ctypes.c_double )) # and we read the array stored at this address\n",
    "print((\"wt% H2O = \"+str(pC[0])))\n",
    "print((\"PPM CO2 = \"+str(pC[1])))\n",
    "print((\"PPM S = \"+str(pC[2])))\n",
    "print((\"PPM Cl = \"+str(pC[3])))\n",
    "print((\"Vol% Exsolve = \"+str(pC[4])))\n",
    "print((\"XV H2O (mass) = \"+str(pC[5])))\n",
    "print((\"XV CO2 (mass) = \"+str(pC[6])))\n",
    "print((\"XV S (mass) = \"+str(pC[7])))\n",
    "print((\"XV Cl (mass) = \"+str(pC[8])))\n",
    "print((\"molV H2O (mass) = \"+str(pC[9])))\n",
    "print((\"molV CO2 (mass) = \"+str(pC[10])))\n",
    "print((\"molV S (mass) = \"+str(pC[11])))\n",
    "print((\"molV Cl (mass) = \"+str(pC[12])))\n"
   ]
  },
  {
   "cell_type": "markdown",
   "metadata": {},
   "source": [
    "Ok, it's working. Now let's complicate the case. Let's imagine that we have a closed-system degassing, going from P = 4000 to 100 bar, as you can do in SolEx. You will write something like that to reproduce the calculation in Python:"
   ]
  },
  {
   "cell_type": "code",
   "execution_count": 11,
   "metadata": {
    "collapsed": true
   },
   "outputs": [],
   "source": [
    "Pint = np.arange(100,4000,100) #start, stop, step\n",
    "rev_Pint = Pint[::-1] # To have the first values being the highest ones\n",
    "results = np.zeros((len(Pint),13)) # For storing the results"
   ]
  },
  {
   "cell_type": "markdown",
   "metadata": {},
   "source": [
    "We create a loop in which we will call pysolex for doing the calculation:"
   ]
  },
  {
   "cell_type": "code",
   "execution_count": 12,
   "metadata": {
    "collapsed": true
   },
   "outputs": [],
   "source": [
    "for i in range(len(rev_Pint)):\n",
    "    output = pysolex.pyex(H2O,CO2,PPMS0,PPMCl0,Si,Al,Fe,Ca,Mg,Na,K,pi,SiO2,pisol,piswitch,flagout,T,rev_Pint[i],NNO)\n",
    "    rawPointer = output.__long__()\n",
    "    pC = ctypes.cast(rawPointer, ctypes.POINTER( ctypes.c_double ))\n",
    "    \n",
    "    results[i,0] = pC[0] #wt% water\n",
    "    results[i,1] = pC[1] #co2 ppm\n",
    "    results[i,2] = pC[2] #S ppm\n",
    "    results[i,3] = pC[3] #Cl ppm\n",
    "    results[i,4] = pC[4] #EXSOLVE\n",
    "    results[i,5] = pC[5] #XV H2O\n",
    "    results[i,6] = pC[6] #XV CO2\n",
    "    results[i,7] = pC[7] #XV S\n",
    "    results[i,8] = pC[8] #XV Cl\n",
    "    results[i,9] = pC[9] #molV H2O\n",
    "    results[i,10] = pC[10] #molV CO2\n",
    "    results[i,11] = pC[11] #molV S\n",
    "    results[i,12] = pC[12] #molV Cl\n"
   ]
  },
  {
   "cell_type": "markdown",
   "metadata": {},
   "source": [
    "Done! Let's do a nice graph for those results:"
   ]
  },
  {
   "cell_type": "code",
   "execution_count": 13,
   "metadata": {
    "collapsed": false
   },
   "outputs": [
    {
     "data": {
      "text/plain": [
       "<matplotlib.text.Text at 0x10502aa10>"
      ]
     },
     "execution_count": 13,
     "metadata": {},
     "output_type": "execute_result"
    },
    {
     "data": {
      "image/png": "[encoded data removed]",
      "text/plain": [
       "<matplotlib.figure.Figure at 0x104ee3e50>"
      ]
     },
     "metadata": {},
     "output_type": "display_data"
    }
   ],
   "source": [
    "plt.plot(rev_Pint[:],results[:,0])\n",
    "plt.xlabel(\"Pressure, bars\", fontsize = 14)\n",
    "plt.ylabel(\"Water content in melt, wt%\", fontsize = 14)\n",
    "plt.title(\"Fig. 1: Water concentration vs pressure, closed system\",fontsize = 14,fontweight = \"bold\")\n",
    "plt.text(2000,2,(\"T =\"+str(T)+\"\\nNNO =\"+str(NNO)),fontsize = 14)"
   ]
  },
  {
   "cell_type": "markdown",
   "metadata": {},
   "source": [
    "Let's do the same thing for the CO2 now:"
   ]
  },
  {
   "cell_type": "code",
   "execution_count": 14,
   "metadata": {
    "collapsed": false,
    "scrolled": true
   },
   "outputs": [
    {
     "data": {
      "text/plain": [
       "<matplotlib.text.Text at 0x1052dee10>"
      ]
     },
     "execution_count": 14,
     "metadata": {},
     "output_type": "execute_result"
    },
    {
     "data": {
      "image/png": "[encoded data removed]",
      "text/plain": [
       "<matplotlib.figure.Figure at 0x104fd2350>"
      ]
     },
     "metadata": {},
     "output_type": "display_data"
    }
   ],
   "source": [
    "plt.plot(rev_Pint[:],results[:,1])\n",
    "plt.xlabel(\"Pressure, bars\", fontsize = 14)\n",
    "plt.ylabel(\"CO$_2$ content in melt, ppm\", fontsize = 14)\n",
    "plt.title(\"Fig. 2: CO$_2$ concentration vs pressure, closed system\",fontsize = 14,fontweight = \"bold\")\n",
    "plt.text(1000,800,(\"T =\"+str(T)+\"\\nNNO =\"+str(NNO)),fontsize = 14)"
   ]
  },
  {
   "cell_type": "markdown",
   "metadata": {},
   "source": [
    "Now let's make the case of an open system. Easy, we will just take the H2O, CO2, S and Cl values from the past output to input them in the next..."
   ]
  },
  {
   "cell_type": "code",
   "execution_count": 15,
   "metadata": {
    "collapsed": true
   },
   "outputs": [],
   "source": [
    "for i in range(len(rev_Pint)):\n",
    "    if i == 0:\n",
    "        output = pysolex.pyex(H2O,CO2,PPMS0,PPMCl0,Si,Al,Fe,Ca,Mg,Na,K,pi,SiO2,pisol,piswitch,flagout,T,rev_Pint[i],NNO)\n",
    "    else:\n",
    "        H2O = results[i-1,0]\n",
    "        CO2 = results[i-1,1]\n",
    "        PPMS = results[i-1,2]\n",
    "        PPMCl = results[i-1,3]\n",
    "        output = pysolex.pyex(H2O,CO2,PPMS,PPMCl,Si,Al,Fe,Ca,Mg,Na,K,pi,SiO2,pisol,piswitch,flagout,T,rev_Pint[i],NNO)\n",
    "        \n",
    "    rawPointer = output.__long__()\n",
    "    pC = ctypes.cast(rawPointer, ctypes.POINTER( ctypes.c_double ))\n",
    "    \n",
    "    results[i,0] = pC[0] #wt% water\n",
    "    results[i,1] = pC[1] #co2 ppm\n",
    "    results[i,2] = pC[2] #S ppm\n",
    "    results[i,3] = pC[3] #Cl ppm\n",
    "    results[i,4] = pC[4] #EXSOLVE\n",
    "    results[i,5] = pC[5] #XV H2O\n",
    "    results[i,6] = pC[6] #XV CO2\n",
    "    results[i,7] = pC[7] #XV S\n",
    "    results[i,8] = pC[8] #XV Cl\n",
    "    results[i,9] = pC[9] #molV H2O\n",
    "    results[i,10] = pC[10] #molV CO2\n",
    "    results[i,11] = pC[11] #molV S\n",
    "    results[i,12] = pC[12] #molV Cl"
   ]
  },
  {
   "cell_type": "markdown",
   "metadata": {},
   "source": [
    "We can now plot the results as we did for the closed system case:"
   ]
  },
  {
   "cell_type": "code",
   "execution_count": 16,
   "metadata": {
    "collapsed": false
   },
   "outputs": [
    {
     "data": {
      "text/plain": [
       "<matplotlib.text.Text at 0x105904fd0>"
      ]
     },
     "execution_count": 16,
     "metadata": {},
     "output_type": "execute_result"
    },
    {
     "data": {
      "image/png": "[encoded data removed]",
      "text/plain": [
       "<matplotlib.figure.Figure at 0x10508ffd0>"
      ]
     },
     "metadata": {},
     "output_type": "display_data"
    }
   ],
   "source": [
    "plt.plot(rev_Pint[:],results[:,0])\n",
    "plt.xlabel(\"Pressure, bars\", fontsize = 14)\n",
    "plt.ylabel(\"Water content in melt, wt%\", fontsize = 14)\n",
    "plt.title(\"Fig. 3: Open system \",fontsize = 14,fontweight = \"bold\")\n",
    "plt.text(2000,2,(\"T =\"+str(T)+\"\\nNNO =\"+str(NNO)))"
   ]
  },
  {
   "cell_type": "code",
   "execution_count": 17,
   "metadata": {
    "collapsed": false
   },
   "outputs": [
    {
     "data": {
      "text/plain": [
       "<matplotlib.text.Text at 0x1059fed10>"
      ]
     },
     "execution_count": 17,
     "metadata": {},
     "output_type": "execute_result"
    },
    {
     "data": {
      "image/png": "[encoded data removed]",
      "text/plain": [
       "<matplotlib.figure.Figure at 0x1050a1610>"
      ]
     },
     "metadata": {},
     "output_type": "display_data"
    }
   ],
   "source": [
    "plt.plot(rev_Pint[:],results[:,1])\n",
    "plt.xlabel(\"Pressure, bars\", fontsize = 14)\n",
    "plt.ylabel(\"CO$_2$ content in melt, ppm\", fontsize = 14)\n",
    "plt.title(\"Fig. 4: Open system \",fontsize = 14,fontweight = \"bold\")\n",
    "#plt.text(1000,800,(\"T =\"+str(T)+\"\\nNNO =\"+str(NNO)))"
   ]
  },
  {
   "cell_type": "code",
   "execution_count": 18,
   "metadata": {
    "collapsed": false
   },
   "outputs": [
    {
     "data": {
      "text/plain": [
       "3.5889504867610182"
      ]
     },
     "execution_count": 18,
     "metadata": {},
     "output_type": "execute_result"
    }
   ],
   "source": [
    "results[0,0]"
   ]
  },
  {
   "cell_type": "code",
   "execution_count": 19,
   "metadata": {
    "collapsed": false
   },
   "outputs": [
    {
     "data": {
      "text/plain": [
       "3900"
      ]
     },
     "execution_count": 19,
     "metadata": {},
     "output_type": "execute_result"
    }
   ],
   "source": [
    "rev_Pint[0]"
   ]
  },
  {
   "cell_type": "code",
   "execution_count": null,
   "metadata": {
    "collapsed": false
   },
   "outputs": [],
   "source": []
  },
  {
   "cell_type": "code",
   "execution_count": null,
   "metadata": {
    "collapsed": true
   },
   "outputs": [],
   "source": []
  }
 ],
 "metadata": {
  "kernelspec": {
   "display_name": "Python 2",
   "language": "python",
   "name": "python2"
  },
  "language_info": {
   "codemirror_mode": {
    "name": "ipython",
    "version": 2
   },
   "file_extension": ".py",
   "mimetype": "text/x-python",
   "name": "python",
   "nbconvert_exporter": "python",
   "pygments_lexer": "ipython2",
   "version": "2.7.9"
  }
 },
 "nbformat": 4,
 "nbformat_minor": 0
}
